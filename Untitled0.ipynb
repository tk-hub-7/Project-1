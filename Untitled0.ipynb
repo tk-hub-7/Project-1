{
  "cells": [
    {
      "cell_type": "markdown",
      "metadata": {
        "id": "view-in-github",
        "colab_type": "text"
      },
      "source": [
        "<a href=\"https://colab.research.google.com/github/tk-hub-7/Project-1/blob/main/Untitled0.ipynb\" target=\"_parent\"><img src=\"https://colab.research.google.com/assets/colab-badge.svg\" alt=\"Open In Colab\"/></a>"
      ]
    },
    {
      "cell_type": "code",
      "execution_count": null,
      "metadata": {
        "colab": {
          "background_save": true
        },
        "id": "bAQpyui1Y3cV"
      },
      "outputs": [],
      "source": [
        "from google.colab import files\n",
        "print(\"Please upload kaggle.json(from your Kaggle account)\")\n",
        "files.upload()"
      ]
    },
    {
      "cell_type": "code",
      "execution_count": null,
      "metadata": {
        "id": "IHbBs4xxZZMQ"
      },
      "outputs": [],
      "source": [
        "|pip install -q pandas numpy matplotlib seaborn scikit-learn plotly\n",
        "\n",
        "import warnings\n",
        "warnings.filterwarnings('ignore')\n",
        "\n",
        "import pandas as pd\n",
        "import numpy as np\n",
        "import matplotlib.pyplot as plt\n",
        "import seaborn as sns\n",
        "from sklearn.model_selection import train_test_split\n",
        "\n",
        "\n"
      ]
    },
    {
      "cell_type": "code",
      "execution_count": null,
      "metadata": {
        "id": "n76P2XJ7gZKB"
      },
      "outputs": [],
      "source": [
        "df=pd.read_csv('train.csv')\n",
        "print('shape:',df.shape)\n",
        "print('\\ncolumns:')\n",
        "print(df.columns.tolist())\n",
        "print('\\nfirst five rows:')\n",
        "df.head()"
      ]
    },
    {
      "cell_type": "code",
      "execution_count": null,
      "metadata": {
        "id": "Ko0uahtUhcyE"
      },
      "outputs": [],
      "source": [
        "print('\\nInfo:')\n",
        "df.info()\n",
        "print('\\n missing value per column')\n",
        "print(df.isnull().sum())"
      ]
    }
  ],
  "metadata": {
    "colab": {
      "provenance": [],
      "authorship_tag": "ABX9TyMBXOuBHgMkzH6v6JunxkIX",
      "include_colab_link": true
    },
    "kernelspec": {
      "display_name": "Python 3",
      "name": "python3"
    },
    "language_info": {
      "name": "python"
    }
  },
  "nbformat": 4,
  "nbformat_minor": 0
}